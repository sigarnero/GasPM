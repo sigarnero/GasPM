{
 "cells": [
  {
   "cell_type": "code",
   "execution_count": 1,
   "metadata": {},
   "outputs": [
    {
     "name": "stderr",
     "output_type": "stream",
     "text": [
      "FTDI import failed: FTDI driver not installed\n",
      "D3XX import failed: D3XX driver not installed\n"
     ]
    },
    {
     "name": "stdout",
     "output_type": "stream",
     "text": [
      "Naludaq version: 0.31.7\n"
     ]
    }
   ],
   "source": [
    "import numpy as np\n",
    "import pandas as pd\n",
    "import matplotlib.pyplot as plt\n",
    "from scipy.optimize import curve_fit\n",
    "\n",
    "import naludaq\n",
    "print(f\"Naludaq version: {naludaq.__version__}\")"
   ]
  },
  {
   "cell_type": "code",
   "execution_count": 41,
   "metadata": {},
   "outputs": [
    {
     "name": "stdout",
     "output_type": "stream",
     "text": [
      "dict_keys(['window_labels', 'data', 'start_window', 'window_timings', 'headers', 'time', 'created_at', 'pkg_num', 'event_num', 'name'])\n",
      "start window:\n",
      "(1013,)\n"
     ]
    }
   ],
   "source": [
    "from naludaq.backend import DiskAcquisition\n",
    "\n",
    "ACQ_PATH = \"data/SineWave_100MHz/\"\n",
    "channels = 4\n",
    "# DiskAcquisition is recommended to be used as a context manager for safety\n",
    "acq= DiskAcquisition(ACQ_PATH)\n",
    "print(acq[0].keys())\n",
    "start = np.zeros((1013))\n",
    "# for ev in range(10):\n",
    "    # print(acq[ev]['window_timings'])\n",
    "print(\"start window:\")\n",
    "for i in range(1013):    \n",
    "    start[i] = acq[i]['start_window']       ## Perhaps this is the very one we need          \n",
    "\n",
    "print(start.shape)"
   ]
  },
  {
   "cell_type": "code",
   "execution_count": null,
   "metadata": {},
   "outputs": [],
   "source": []
  }
 ],
 "metadata": {
  "kernelspec": {
   "display_name": "base",
   "language": "python",
   "name": "python3"
  },
  "language_info": {
   "codemirror_mode": {
    "name": "ipython",
    "version": 3
   },
   "file_extension": ".py",
   "mimetype": "text/x-python",
   "name": "python",
   "nbconvert_exporter": "python",
   "pygments_lexer": "ipython3",
   "version": "3.11.9"
  }
 },
 "nbformat": 4,
 "nbformat_minor": 2
}
