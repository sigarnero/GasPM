{
 "cells": [
  {
   "cell_type": "code",
   "execution_count": 2,
   "metadata": {},
   "outputs": [
    {
     "name": "stderr",
     "output_type": "stream",
     "text": [
      "FTDI import failed: FTDI driver not installed\n",
      "D3XX import failed: D3XX driver not installed\n"
     ]
    },
    {
     "name": "stdout",
     "output_type": "stream",
     "text": [
      "Naludaq version: 0.31.7\n"
     ]
    }
   ],
   "source": [
    "import numpy as np\n",
    "import pandas as pd\n",
    "import matplotlib.pyplot as plt\n",
    "from scipy.optimize import curve_fit\n",
    "\n",
    "import naludaq\n",
    "print(f\"Naludaq version: {naludaq.__version__}\")"
   ]
  },
  {
   "cell_type": "code",
   "execution_count": 3,
   "metadata": {},
   "outputs": [
    {
     "name": "stdout",
     "output_type": "stream",
     "text": [
      "dict_keys(['window_labels', 'data', 'start_window', 'window_timings', 'headers', 'time', 'created_at', 'pkg_num', 'event_num', 'name'])\n",
      "start window:\n",
      "{'channels': [15, 15], 'num_winds': [1, 1], 'event_id': [75, 75], 'prev_final_window': [3919, 3660], 'trigger_time_ns': [1929690, 7786092]}\n"
     ]
    }
   ],
   "source": [
    "from naludaq.backend import DiskAcquisition\n",
    "\n",
    "ACQ_PATH = \"data/SineWave_100MHz/\"\n",
    "channels = 4\n",
    "# DiskAcquisition is recommended to be used as a context manager for safety\n",
    "acq= DiskAcquisition(ACQ_PATH)\n",
    "print(acq[0].keys())\n",
    "start = np.zeros((1013))\n",
    "print(\"start window:\")\n",
    "print(acq[76]['headers'])    #%  128       \n",
    "\n",
    "# print(start.max())\n",
    "# plt.hist(start, bins=30);\n",
    "# plt.xlabel(\"start_window\")\n",
    "# plt.ylabel(\"counts\")"
   ]
  },
  {
   "cell_type": "code",
   "execution_count": 4,
   "metadata": {},
   "outputs": [
    {
     "name": "stdout",
     "output_type": "stream",
     "text": [
      "Board model: {'model': 'dsa-c10-8', 'channels': 8, 'windows': 510, 'samples': 64, 'chanmask': 61440, 'chanshift': 10, 'chips': {'0': {'channels': 4, 'name': 'aardvarcv3', 'readable_name': 'AARDVARCv3', 'resolution': 12, 'samples': 64, 'windows': 510}, '1': {'channels': 4, 'name': 'aardvarcv3', 'readable_name': 'AARDVARCv3', 'resolution': 12, 'samples': 64, 'windows': 510}}, 'clock_file': '/root/nalu/_internal/naluconfigs/data/clocks/Si5341_TRBHM_10GSaps_GCCsstx2_Registers.txt', 'connections': ['serial', 'd2xx', 'udp'], 'default_baud': {'115200': 868}, 'default_baudrate': 115200, 'default_clock': 100000000.0, 'default_divider': 868, 'default_trigger_value': 1500, 'ext_dac': {'channel_mapping': {'0': 0, '1': 2, '2': 5, '3': 7, '4': 0, '5': 2, '6': 5, '7': 7, 'cal0': 4, 'cal1': 4}, 'channels': {'0': 1702, '1': 1702, '2': 1702, '3': 1702, '4': 2218, '5': 1702, '6': 1702, '7': 1702}, 'chip': 'ltc2620', 'chip_mapping': {'0': 0, '1': 0, '2': 0, '3': 0, '4': 1, '5': 1, '6': 1, '7': 1, 'cal0': 0, 'cal1': 1}, 'max_counts': 4095, 'max_mv': 1200}, 'ext_trig_cycles': 15, 'firmware_version': 183, 'headers': 3, 'new_firmware': True, 'numregs': 64, 'pedestals_blocks': 64, 'peripherals': {'current': {'addr': 208, 'bits': 16, 'chan': 0, 'gain': 8}, 'vadjn': {'addr': 216, 'bits': 16, 'chan': 0, 'gain': 1}, 'vadjp': {'addr': 216, 'bits': 16, 'chan': 1, 'gain': 1}}, 'possible_bauds': {'1000000': 100, '115200': 868, '2000000': 50, '3000000': 33}, 'register_stop_word': 'face', 'resolution': 12, 'samplingrate': 10.0, 'serial_number': '210357B962DFB', 'si5341_address': 238, 'stop_word': 'beefbeef', 'strobe_correction_keys': ['calstrb_le', 'calstrb_te', 'wrstrb1_le', 'wrstrb1_te', 'wrstrb2_le', 'wrstrb2_te', 'wrsync1_le', 'wrsync1_te', 'wrsync2_le', 'wrsync2_te'], 'strobe_values_correction': True, 'threshold_scan': {'max_vref': 2500, 'min_vref': 0, 'start': 500, 'stepsize': 5, 'stop': 3500, 'units': 'counts'}, 'timing_hack': True, 'trigger': {'default_trigger_value': 2000, 'max_val': 4095, 'min_val': 0, 'wbias': {'0': 2000, '1': 2000, '2': 2000, '3': 2000}}, 'uart': {'bundle_mode': False, 'tx_pause': 0.02}, 'usb': {'bundle_mode': False, 'tx_pause': 0.005}, 'wait': 'AE000001', 'windmask': 1022}\n",
      "Number of events: 1013\n",
      "Pedestals stored: True\n"
     ]
    }
   ],
   "source": [
    "with DiskAcquisition(ACQ_PATH) as acq:\n",
    "    print(\"Board model:\", acq.params)\n",
    "    print(\"Number of events:\", len(acq))\n",
    "    print(\"Pedestals stored:\", acq.pedestals is not None)\n"
   ]
  }
 ],
 "metadata": {
  "kernelspec": {
   "display_name": "base",
   "language": "python",
   "name": "python3"
  },
  "language_info": {
   "codemirror_mode": {
    "name": "ipython",
    "version": 3
   },
   "file_extension": ".py",
   "mimetype": "text/x-python",
   "name": "python",
   "nbconvert_exporter": "python",
   "pygments_lexer": "ipython3",
   "version": "3.11.9"
  }
 },
 "nbformat": 4,
 "nbformat_minor": 2
}
